{
 "cells": [
  {
   "cell_type": "code",
   "execution_count": 129,
   "metadata": {
    "collapsed": true
   },
   "outputs": [],
   "source": [
    "import datetime\n",
    "import hashlib"
   ]
  },
  {
   "cell_type": "code",
   "execution_count": 130,
   "metadata": {
    "collapsed": true
   },
   "outputs": [],
   "source": [
    "class Block:\n",
    "    blockNo = 0\n",
    "    data = None\n",
    "    next = None #used to point to the next block in blockchain (modelled as linked list)\n",
    "    hash = None\n",
    "    nonce = 0\n",
    "    previous_hash = 0x0\n",
    "    timestamp = datetime.datetime.now()\n",
    "\n",
    "    def __init__(self, data):\n",
    "        self.data = data\n",
    "\n",
    "    def hash(self):\n",
    "        h = hashlib.sha256()\n",
    "        h.update(\n",
    "        str(self.nonce).encode('utf-8') +\n",
    "        str(self.data).encode('utf-8') +\n",
    "        str(self.previous_hash).encode('utf-8') +\n",
    "        str(self.timestamp).encode('utf-8') +\n",
    "        str(self.blockNo).encode('utf-8')\n",
    "        )\n",
    "        return h.hexdigest()\n",
    "\n",
    "    def __str__(self):\n",
    "        return \"Block Hash: \" + str(self.hash()) + \"\\nBlockNo: \" + str(self.blockNo) + \"\\nBlock Data: \" + str(self.data) + \"\\nHashes: \" + str(self.nonce) + \"\\n--------------\"\n"
   ]
  },
  {
   "cell_type": "code",
   "execution_count": 131,
   "metadata": {},
   "outputs": [],
   "source": [
    "class Blockchain:\n",
    "\n",
    "    diff = 15\n",
    "    maxNonce = 2**32\n",
    "    target = 2 ** (256-diff)\n",
    "\n",
    "    block = Block(\"Genesis\")\n",
    "    dummy = head = block\n",
    "\n",
    "    def add(self, block):\n",
    "\n",
    "        block.previous_hash = self.block.hash()\n",
    "        block.blockNo = self.block.blockNo + 1\n",
    "\n",
    "        self.block.next = block\n",
    "        self.block = self.block.next\n",
    "    \n",
    "    \"\"\"\n",
    "    def mine(self, block):\n",
    "        for n in range(self.maxNonce):\n",
    "            if int(block.hash(), 16) <= self.target:\n",
    "                self.add(block)\n",
    "                print(block)\n",
    "                break\n",
    "            else:\n",
    "                block.nonce += 1\n",
    "    \"\"\"\n",
    "    def mine(self, block):\n",
    "        if isinstance(self.block.previous_hash, str):\n",
    "            self.block.previous_hash = int(self.block.previous_hash, 16)\n",
    "        for n in range(self.maxNonce):\n",
    "            if abs(self.block.previous_hash - int(block.hash(), 16)) <= self.target: #was done to avoid large computation time\n",
    "                self.add(block)\n",
    "                break\n",
    "            else:\n",
    "                block.nonce += 1\n",
    "    \n"
   ]
  },
  {
   "cell_type": "code",
   "execution_count": 132,
   "metadata": {
    "collapsed": true
   },
   "outputs": [],
   "source": [
    "blockchain = Blockchain()"
   ]
  },
  {
   "cell_type": "code",
   "execution_count": 133,
   "metadata": {},
   "outputs": [
    {
     "name": "stdout",
     "output_type": "stream",
     "text": [
      "Block Hash: 6e41214eef91d233977607a8e864bfa6648833e37b8092889b938f201acbdced\n",
      "BlockNo: 0\n",
      "Block Data: Genesis\n",
      "Hashes: 0\n",
      "--------------\n",
      "Block Hash: e4f3850e18826ee7d64dccb798cf69e9c018d4c993ba8900ad21b4f7b116c600\n",
      "BlockNo: 1\n",
      "Block Data: Block 1\n",
      "Hashes: 40308\n",
      "--------------\n",
      "Block Hash: 08d2763f7ee1932900413e464697eda26f5f7c530b6313ccdae3f09a8e5a1aa3\n",
      "BlockNo: 2\n",
      "Block Data: Block 2\n",
      "Hashes: 859\n",
      "--------------\n",
      "Block Hash: ac20ecf3853e0df9ff5a81937ac7d6eb8472314c38261e1514112fe0bc1e0cf8\n",
      "BlockNo: 3\n",
      "Block Data: Block 3\n",
      "Hashes: 5764\n",
      "--------------\n",
      "Block Hash: fc2cc523d3c524e300492da82b831a03c4dcaaac35f04c6b521181037942f59c\n",
      "BlockNo: 4\n",
      "Block Data: Block 4\n",
      "Hashes: 22364\n",
      "--------------\n",
      "Block Hash: 7bef6032651ef0d97cea5b86ee8c905b797705be10848b11d52a7a99bb5cbd20\n",
      "BlockNo: 5\n",
      "Block Data: Block 5\n",
      "Hashes: 184\n",
      "--------------\n",
      "Block Hash: 445f16145a87a22dd4d1e18f7b2a5c121772f421bf6f225ac7c313ae99738c47\n",
      "BlockNo: 6\n",
      "Block Data: Block 6\n",
      "Hashes: 10163\n",
      "--------------\n",
      "Block Hash: 033a807e2112283c0bf5228b8d95ff91e2487336dc01744120b1f293ab46cda8\n",
      "BlockNo: 7\n",
      "Block Data: Block 7\n",
      "Hashes: 26809\n",
      "--------------\n",
      "Block Hash: d78bc7670c4fa46cb9b7c5f7e36086f06c7c3486cb10b0d8c9d3d94564ca2cc7\n",
      "BlockNo: 8\n",
      "Block Data: Block 8\n",
      "Hashes: 5023\n",
      "--------------\n",
      "Block Hash: b4d9855c4a874870668a96beee37f32c66753dd6fbde0c482610161629226ad9\n",
      "BlockNo: 9\n",
      "Block Data: Block 9\n",
      "Hashes: 24551\n",
      "--------------\n",
      "Block Hash: 9d5b98d401200df5e32ad3a31611409ff72f8a36377d890f435abf4e6c433659\n",
      "BlockNo: 10\n",
      "Block Data: Block 10\n",
      "Hashes: 23179\n",
      "--------------\n"
     ]
    }
   ],
   "source": [
    "for n in range(10):\n",
    "    blockchain.mine(Block(\"Block \" + str(n+1)))\n",
    "\n",
    "while blockchain.head != None:\n",
    "    print(blockchain.head)\n",
    "    blockchain.head = blockchain.head.next"
   ]
  }
 ],
 "metadata": {
  "kernelspec": {
   "display_name": "Python 3",
   "language": "python",
   "name": "python3"
  },
  "language_info": {
   "codemirror_mode": {
    "name": "ipython",
    "version": 3
   },
   "file_extension": ".py",
   "mimetype": "text/x-python",
   "name": "python",
   "nbconvert_exporter": "python",
   "pygments_lexer": "ipython3",
   "version": "3.6.3"
  }
 },
 "nbformat": 4,
 "nbformat_minor": 2
}
